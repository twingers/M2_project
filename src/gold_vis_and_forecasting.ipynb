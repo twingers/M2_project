{
 "cells": [
  {
   "attachments": {},
   "cell_type": "markdown",
   "metadata": {},
   "source": [
    "# Time Series Analysis Gold - Visualization and Forecasting\n",
    "This notebook will be used to determine if there is a relationship between gold, the Dow Jones Industrial (DJI) Average, and the Consumer Price Index (CPI).  The data was previously extracted from various websites and saved to csv files.\n",
    "\n",
    "Env: TimeSeries (Python3.9.15)<br>\n",
    "Created By: TW<br>\n",
    "Created On: 2023-02-27\n",
    "\n",
    "## Libraries"
   ]
  },
  {
   "cell_type": "code",
   "execution_count": 1,
   "metadata": {},
   "outputs": [],
   "source": [
    "# Data handling\n",
    "import numpy as np\n",
    "import pandas as pd\n",
    "\n",
    "# Visualization\n",
    "import matplotlib.pyplot as plt\n",
    "import seaborn as sns\n",
    "\n",
    "# Stats/Modeling"
   ]
  },
  {
   "attachments": {},
   "cell_type": "markdown",
   "metadata": {},
   "source": [
    "## Open csv files"
   ]
  },
  {
   "cell_type": "code",
   "execution_count": 20,
   "metadata": {},
   "outputs": [
    {
     "data": {
      "text/html": [
       "<div>\n",
       "<style scoped>\n",
       "    .dataframe tbody tr th:only-of-type {\n",
       "        vertical-align: middle;\n",
       "    }\n",
       "\n",
       "    .dataframe tbody tr th {\n",
       "        vertical-align: top;\n",
       "    }\n",
       "\n",
       "    .dataframe thead th {\n",
       "        text-align: right;\n",
       "    }\n",
       "</style>\n",
       "<table border=\"1\" class=\"dataframe\">\n",
       "  <thead>\n",
       "    <tr style=\"text-align: right;\">\n",
       "      <th></th>\n",
       "      <th>Open</th>\n",
       "      <th>High</th>\n",
       "      <th>Low</th>\n",
       "      <th>Close</th>\n",
       "      <th>Adj Close</th>\n",
       "      <th>Volume</th>\n",
       "    </tr>\n",
       "    <tr>\n",
       "      <th>Month</th>\n",
       "      <th></th>\n",
       "      <th></th>\n",
       "      <th></th>\n",
       "      <th></th>\n",
       "      <th></th>\n",
       "      <th></th>\n",
       "    </tr>\n",
       "  </thead>\n",
       "  <tbody>\n",
       "    <tr>\n",
       "      <th>2000-09-01</th>\n",
       "      <td>277.000000</td>\n",
       "      <td>277.000000</td>\n",
       "      <td>277.000000</td>\n",
       "      <td>277.000000</td>\n",
       "      <td>277.000000</td>\n",
       "      <td>0</td>\n",
       "    </tr>\n",
       "    <tr>\n",
       "      <th>2000-09-05</th>\n",
       "      <td>275.799988</td>\n",
       "      <td>275.799988</td>\n",
       "      <td>275.799988</td>\n",
       "      <td>275.799988</td>\n",
       "      <td>275.799988</td>\n",
       "      <td>2</td>\n",
       "    </tr>\n",
       "    <tr>\n",
       "      <th>2000-09-06</th>\n",
       "      <td>274.200012</td>\n",
       "      <td>274.200012</td>\n",
       "      <td>274.200012</td>\n",
       "      <td>274.200012</td>\n",
       "      <td>274.200012</td>\n",
       "      <td>0</td>\n",
       "    </tr>\n",
       "    <tr>\n",
       "      <th>2000-09-07</th>\n",
       "      <td>274.000000</td>\n",
       "      <td>274.000000</td>\n",
       "      <td>274.000000</td>\n",
       "      <td>274.000000</td>\n",
       "      <td>274.000000</td>\n",
       "      <td>125</td>\n",
       "    </tr>\n",
       "    <tr>\n",
       "      <th>2000-09-08</th>\n",
       "      <td>273.299988</td>\n",
       "      <td>273.299988</td>\n",
       "      <td>273.299988</td>\n",
       "      <td>273.299988</td>\n",
       "      <td>273.299988</td>\n",
       "      <td>0</td>\n",
       "    </tr>\n",
       "  </tbody>\n",
       "</table>\n",
       "</div>"
      ],
      "text/plain": [
       "                  Open        High         Low       Close   Adj Close  Volume\n",
       "Month                                                                         \n",
       "2000-09-01  277.000000  277.000000  277.000000  277.000000  277.000000       0\n",
       "2000-09-05  275.799988  275.799988  275.799988  275.799988  275.799988       2\n",
       "2000-09-06  274.200012  274.200012  274.200012  274.200012  274.200012       0\n",
       "2000-09-07  274.000000  274.000000  274.000000  274.000000  274.000000     125\n",
       "2000-09-08  273.299988  273.299988  273.299988  273.299988  273.299988       0"
      ]
     },
     "execution_count": 20,
     "metadata": {},
     "output_type": "execute_result"
    }
   ],
   "source": [
    "df_gold = pd.read_csv('C:/Users/twingers/OneDrive/Documents/python_projects/Time_Series_Analysis_Gold/data/gold_prices.csv')\n",
    "df_gold.rename(columns={'Date': 'Month'}, inplace=True)\n",
    "df_gold.set_index('Month', inplace=True)\n",
    "df_gold.head()"
   ]
  },
  {
   "cell_type": "code",
   "execution_count": 21,
   "metadata": {},
   "outputs": [
    {
     "data": {
      "text/html": [
       "<div>\n",
       "<style scoped>\n",
       "    .dataframe tbody tr th:only-of-type {\n",
       "        vertical-align: middle;\n",
       "    }\n",
       "\n",
       "    .dataframe tbody tr th {\n",
       "        vertical-align: top;\n",
       "    }\n",
       "\n",
       "    .dataframe thead th {\n",
       "        text-align: right;\n",
       "    }\n",
       "</style>\n",
       "<table border=\"1\" class=\"dataframe\">\n",
       "  <thead>\n",
       "    <tr style=\"text-align: right;\">\n",
       "      <th></th>\n",
       "      <th>CPI</th>\n",
       "    </tr>\n",
       "    <tr>\n",
       "      <th>Month</th>\n",
       "      <th></th>\n",
       "    </tr>\n",
       "  </thead>\n",
       "  <tbody>\n",
       "    <tr>\n",
       "      <th>1913-01-01</th>\n",
       "      <td>9.8</td>\n",
       "    </tr>\n",
       "    <tr>\n",
       "      <th>1913-02-01</th>\n",
       "      <td>9.8</td>\n",
       "    </tr>\n",
       "    <tr>\n",
       "      <th>1913-03-01</th>\n",
       "      <td>9.8</td>\n",
       "    </tr>\n",
       "    <tr>\n",
       "      <th>1913-04-01</th>\n",
       "      <td>9.8</td>\n",
       "    </tr>\n",
       "    <tr>\n",
       "      <th>1913-05-01</th>\n",
       "      <td>9.7</td>\n",
       "    </tr>\n",
       "  </tbody>\n",
       "</table>\n",
       "</div>"
      ],
      "text/plain": [
       "            CPI\n",
       "Month          \n",
       "1913-01-01  9.8\n",
       "1913-02-01  9.8\n",
       "1913-03-01  9.8\n",
       "1913-04-01  9.8\n",
       "1913-05-01  9.7"
      ]
     },
     "execution_count": 21,
     "metadata": {},
     "output_type": "execute_result"
    }
   ],
   "source": [
    "df_cpi = pd.read_csv('C:/Users/twingers/OneDrive/Documents/python_projects/Time_Series_Analysis_Gold/data/cpi.csv', index_col=\"Month\")\n",
    "df_cpi.head()"
   ]
  },
  {
   "cell_type": "code",
   "execution_count": 22,
   "metadata": {},
   "outputs": [
    {
     "data": {
      "text/html": [
       "<div>\n",
       "<style scoped>\n",
       "    .dataframe tbody tr th:only-of-type {\n",
       "        vertical-align: middle;\n",
       "    }\n",
       "\n",
       "    .dataframe tbody tr th {\n",
       "        vertical-align: top;\n",
       "    }\n",
       "\n",
       "    .dataframe thead th {\n",
       "        text-align: right;\n",
       "    }\n",
       "</style>\n",
       "<table border=\"1\" class=\"dataframe\">\n",
       "  <thead>\n",
       "    <tr style=\"text-align: right;\">\n",
       "      <th></th>\n",
       "      <th>Date</th>\n",
       "      <th>Open</th>\n",
       "      <th>High</th>\n",
       "      <th>Low</th>\n",
       "      <th>Close</th>\n",
       "      <th>Adj Close</th>\n",
       "      <th>Volume</th>\n",
       "    </tr>\n",
       "  </thead>\n",
       "  <tbody>\n",
       "    <tr>\n",
       "      <th>0</th>\n",
       "      <td>2000-09-01</td>\n",
       "      <td>11238.799805</td>\n",
       "      <td>11238.799805</td>\n",
       "      <td>11238.799805</td>\n",
       "      <td>11238.799805</td>\n",
       "      <td>11238.799805</td>\n",
       "      <td>0</td>\n",
       "    </tr>\n",
       "    <tr>\n",
       "      <th>1</th>\n",
       "      <td>2000-09-05</td>\n",
       "      <td>11260.599609</td>\n",
       "      <td>11260.599609</td>\n",
       "      <td>11260.599609</td>\n",
       "      <td>11260.599609</td>\n",
       "      <td>11260.599609</td>\n",
       "      <td>0</td>\n",
       "    </tr>\n",
       "    <tr>\n",
       "      <th>2</th>\n",
       "      <td>2000-09-06</td>\n",
       "      <td>11310.599609</td>\n",
       "      <td>11310.599609</td>\n",
       "      <td>11310.599609</td>\n",
       "      <td>11310.599609</td>\n",
       "      <td>11310.599609</td>\n",
       "      <td>0</td>\n",
       "    </tr>\n",
       "    <tr>\n",
       "      <th>3</th>\n",
       "      <td>2000-09-07</td>\n",
       "      <td>11259.900391</td>\n",
       "      <td>11259.900391</td>\n",
       "      <td>11259.900391</td>\n",
       "      <td>11259.900391</td>\n",
       "      <td>11259.900391</td>\n",
       "      <td>0</td>\n",
       "    </tr>\n",
       "    <tr>\n",
       "      <th>4</th>\n",
       "      <td>2000-09-08</td>\n",
       "      <td>11220.700195</td>\n",
       "      <td>11220.700195</td>\n",
       "      <td>11220.700195</td>\n",
       "      <td>11220.700195</td>\n",
       "      <td>11220.700195</td>\n",
       "      <td>0</td>\n",
       "    </tr>\n",
       "  </tbody>\n",
       "</table>\n",
       "</div>"
      ],
      "text/plain": [
       "         Date          Open          High           Low         Close  \\\n",
       "0  2000-09-01  11238.799805  11238.799805  11238.799805  11238.799805   \n",
       "1  2000-09-05  11260.599609  11260.599609  11260.599609  11260.599609   \n",
       "2  2000-09-06  11310.599609  11310.599609  11310.599609  11310.599609   \n",
       "3  2000-09-07  11259.900391  11259.900391  11259.900391  11259.900391   \n",
       "4  2000-09-08  11220.700195  11220.700195  11220.700195  11220.700195   \n",
       "\n",
       "      Adj Close  Volume  \n",
       "0  11238.799805       0  \n",
       "1  11260.599609       0  \n",
       "2  11310.599609       0  \n",
       "3  11259.900391       0  \n",
       "4  11220.700195       0  "
      ]
     },
     "execution_count": 22,
     "metadata": {},
     "output_type": "execute_result"
    }
   ],
   "source": [
    "df_dji = pd.read_csv('C:/Users/twingers/OneDrive/Documents/python_projects/Time_Series_Analysis_Gold/data/dji.csv')\n",
    "df_dji.head()"
   ]
  },
  {
   "cell_type": "code",
   "execution_count": 23,
   "metadata": {},
   "outputs": [
    {
     "name": "stdout",
     "output_type": "stream",
     "text": [
      "<class 'pandas.core.frame.DataFrame'>\n",
      "Index: 5638 entries, 2000-09-01 to 2023-02-21\n",
      "Data columns (total 6 columns):\n",
      " #   Column     Non-Null Count  Dtype  \n",
      "---  ------     --------------  -----  \n",
      " 0   Open       5638 non-null   float64\n",
      " 1   High       5638 non-null   float64\n",
      " 2   Low        5638 non-null   float64\n",
      " 3   Close      5638 non-null   float64\n",
      " 4   Adj Close  5638 non-null   float64\n",
      " 5   Volume     5638 non-null   int64  \n",
      "dtypes: float64(5), int64(1)\n",
      "memory usage: 308.3+ KB\n"
     ]
    }
   ],
   "source": [
    "df_gold.info()"
   ]
  },
  {
   "cell_type": "code",
   "execution_count": 24,
   "metadata": {},
   "outputs": [
    {
     "name": "stdout",
     "output_type": "stream",
     "text": [
      "<class 'pandas.core.frame.DataFrame'>\n",
      "Index: 1321 entries, 1913-01-01 to 2023-01-01\n",
      "Data columns (total 1 columns):\n",
      " #   Column  Non-Null Count  Dtype  \n",
      "---  ------  --------------  -----  \n",
      " 0   CPI     1321 non-null   float64\n",
      "dtypes: float64(1)\n",
      "memory usage: 20.6+ KB\n"
     ]
    }
   ],
   "source": [
    "df_cpi.info()"
   ]
  },
  {
   "cell_type": "code",
   "execution_count": 25,
   "metadata": {},
   "outputs": [
    {
     "name": "stdout",
     "output_type": "stream",
     "text": [
      "<class 'pandas.core.frame.DataFrame'>\n",
      "RangeIndex: 5236 entries, 0 to 5235\n",
      "Data columns (total 7 columns):\n",
      " #   Column     Non-Null Count  Dtype  \n",
      "---  ------     --------------  -----  \n",
      " 0   Date       5236 non-null   object \n",
      " 1   Open       5236 non-null   float64\n",
      " 2   High       5236 non-null   float64\n",
      " 3   Low        5236 non-null   float64\n",
      " 4   Close      5236 non-null   float64\n",
      " 5   Adj Close  5236 non-null   float64\n",
      " 6   Volume     5236 non-null   int64  \n",
      "dtypes: float64(5), int64(1), object(1)\n",
      "memory usage: 286.5+ KB\n"
     ]
    }
   ],
   "source": [
    "df_dji.info()"
   ]
  },
  {
   "attachments": {},
   "cell_type": "markdown",
   "metadata": {},
   "source": [
    "None of the data frames are on the same time-scale.  A uniform time-scale is needed for comparison and analysis.  Gold and the DJI is on a daily basis when the market is open.  CPI is given on a monthly basis"
   ]
  },
  {
   "cell_type": "code",
   "execution_count": null,
   "metadata": {},
   "outputs": [],
   "source": []
  },
  {
   "cell_type": "code",
   "execution_count": null,
   "metadata": {},
   "outputs": [],
   "source": []
  },
  {
   "cell_type": "code",
   "execution_count": null,
   "metadata": {},
   "outputs": [],
   "source": []
  }
 ],
 "metadata": {
  "kernelspec": {
   "display_name": "TimeSeries",
   "language": "python",
   "name": "python3"
  },
  "language_info": {
   "codemirror_mode": {
    "name": "ipython",
    "version": 3
   },
   "file_extension": ".py",
   "mimetype": "text/x-python",
   "name": "python",
   "nbconvert_exporter": "python",
   "pygments_lexer": "ipython3",
   "version": "3.9.15"
  },
  "orig_nbformat": 4,
  "vscode": {
   "interpreter": {
    "hash": "06927ef7aaa74eb999d70ca5a0fe1d138c23b995acf754f61a32409e3a5feabe"
   }
  }
 },
 "nbformat": 4,
 "nbformat_minor": 2
}
